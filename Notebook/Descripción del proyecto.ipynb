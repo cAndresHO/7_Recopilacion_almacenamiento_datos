{
 "cells": [
  {
   "cell_type": "markdown",
   "metadata": {},
   "source": [
    "# Descripción del proyecto\n",
    "Se hace un análisis para una nueva empresa de viajes compartidos que se está lanzando en Chicago. El objetivo es encontrar patrones en la información disponible. Se quiere comprender las preferencias de los pasajeros y el impacto de los factores externos en los viajes.\n",
    "\n",
    "Se analizarás los datos de los competidores y se probará una hipótesis sobre el impacto del clima en la frecuencia de los viajes."
   ]
  },
  {
   "cell_type": "markdown",
   "metadata": {},
   "source": [
    "# Descripción de los datos\n",
    "Una base de datos con información sobre viajes en taxi en Chicago:\n",
    "\n",
    "tabla neighborhoods: datos sobre los barrios de la ciudad\n",
    "\n",
    "- name: nombre del barrio\n",
    "- neighborhood_id: código del barrio\n",
    "\n",
    "tabla cabs: datos sobre los taxis\n",
    "- cab_id: código del vehículo\n",
    "- vehicle_id: ID técnico del vehículo\n",
    "- company_name: la empresa propietaria del vehículo\n",
    "\n",
    "tabla trips: datos sobre los viajes\n",
    "- trip_id: código del viaje\n",
    "- cab_id: código del vehículo que opera el viaje\n",
    "- start_ts: fecha y hora del inicio del viaje (tiempo redondeado a la hora)\n",
    "- end_ts: fecha y hora de finalización del viaje (tiempo redondeado a la hora)\n",
    "- duration_seconds: duración del viaje en segundos\n",
    "- distance_miles: distancia del viaje en millas\n",
    "- pickup_location_id: código del barrio de recogida\n",
    "- dropoff_location_id: código del barrio de finalización\n",
    "\n",
    "tabla weather_records: datos sobre el clima\n",
    "- record_id: código del registro meteorológico\n",
    "- ts: fecha y hora del registro (tiempo redondeado a la hora)\n",
    "- temperature: temperatura cuando se tomó el registro\n",
    "- description: breve descripción de las condiciones meteorológicas, por ejemplo, \"lluvia ligera\" o \"nubes dispersas\""
   ]
  }
 ],
 "metadata": {
  "language_info": {
   "name": "python"
  }
 },
 "nbformat": 4,
 "nbformat_minor": 2
}
